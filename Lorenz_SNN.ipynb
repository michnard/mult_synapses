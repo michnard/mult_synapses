{
 "cells": [
  {
   "cell_type": "code",
   "execution_count": 1,
   "metadata": {},
   "outputs": [],
   "source": [
    "import numpy as np\n",
    "import matplotlib.pyplot as plt\n",
    "from scipy.integrate import odeint\n",
    "from mpl_toolkits.mplot3d import Axes3D"
   ]
  },
  {
   "cell_type": "code",
   "execution_count": 2,
   "metadata": {},
   "outputs": [],
   "source": [
    "# common parameters\n",
    "Time = 10 # total time\n",
    "dt = 0.0001 # time step\n",
    "Nt=int(Time/dt) # number of time steps\n",
    "N = 100 # neurons\n",
    "\n",
    "# dimensionality of problem (Lorentz)\n",
    "K = 3\n",
    "# kernel\n",
    "np.random.seed(12) # for reproducibility\n",
    "D=np.random.randn(K,N) # N x K - Weights associated to each neuron\n",
    "D = D / np.sqrt(np.diag(D.T@D)) # normalize\n",
    "D = D / 10 # avoid too big discontinuities\n",
    "# threshold\n",
    "T = np.diag(D.T@D)/2"
   ]
  },
  {
   "cell_type": "code",
   "execution_count": 4,
   "metadata": {},
   "outputs": [],
   "source": [
    "#We will need to write the dynamical system as a Kronecker product\n",
    "# Standard Lorentz parameters\n",
    "rho=28;sigma=10;beta=8/3\n",
    "# - Linear part (Y' = AY)\n",
    "A = np.array([[-sigma,sigma,0],[rho,-1,0],[0,0,-beta]])\n",
    "# - Nonlinear part (Y' = A Y +  B Y(x)Y) where (x) is Kroenecker product\n",
    "B = np.array([[0]*9,\n",
    "              [0,0,-1]+[0]*6,\n",
    "              [0,1]+[0]*7])"
   ]
  },
  {
   "cell_type": "code",
   "execution_count": 5,
   "metadata": {},
   "outputs": [],
   "source": [
    "lam=0.75 # time constant for the neurons\n",
    "# Initialize Voltage, spikes, rate\n",
    "V = np.zeros([N,Nt+1])\n",
    "s = np.zeros([N,Nt+1])\n",
    "r = np.zeros([N,Nt+1])\n",
    "\n",
    "# Set initial conditions\n",
    "x0 = np.array([-11.40057002, -14.01987468,  27.49928125])\n",
    "r[:,0] = np.array(np.linalg.pinv(D)@x0) # pseudo-inverse - \"cheaty\" way of getting the right firing rate\n",
    "V[:,0] = 0.9*T\n",
    "\n",
    "# Network connections:\n",
    "# - fast\n",
    "O_f = D.T @ D\n",
    "# - slow\n",
    "O_s = D.T @ (lam*np.identity(K) + A) @ D\n",
    "# - nonlinear\n",
    "O_nl =D.T @ B @ np.kron(D,D)"
   ]
  },
  {
   "cell_type": "code",
   "execution_count": null,
   "metadata": {},
   "outputs": [],
   "source": [
    "# actual simulation: simple forward Euler\n",
    "for t in range(Nt):\n",
    "    V[:,t+1] = V[:,t] + dt*(-lam*V[:,t] - O_f@s[:,t] + O_s @ r[:,t] + O_nl @ np.kron(r[:,t],r[:,t]))\n",
    "    \n",
    "    # check if there are neurons whose voltage is above threshold\n",
    "    above = np.where(V[:,t+1] > T)[0]\n",
    "    \n",
    "    # introduce a control to let only one neuron fire at the time\n",
    "    if len(above):\n",
    "        s[np.argmax(V[:,t+1]),t+1] = 1/dt\n",
    "    \n",
    "    # update rate\n",
    "    r[:,t+1] = r[:,t] + dt*(s[:,t+1] - lam*r[:,t])"
   ]
  },
  {
   "cell_type": "code",
   "execution_count": null,
   "metadata": {},
   "outputs": [],
   "source": [
    "# \"Decode\" - i.e. multiply rate with decoding matrix D\n",
    "xn = D@r"
   ]
  },
  {
   "cell_type": "code",
   "execution_count": null,
   "metadata": {},
   "outputs": [],
   "source": [
    "# plot network output\n",
    "plt.figure(figsize=(4,4))\n",
    "\n",
    "ax = plt.subplot(1,1,1,projection='3d')\n",
    "\n",
    "ax.plot(xn[0], xn[1], xn[2],alpha=0.9,color='dimgrey')\n",
    "plt.axis('off')\n",
    "plt.xlim([-17.5,15])\n",
    "plt.ylim([-12,15])\n",
    "ax.set_zlim([15,38])"
   ]
  },
  {
   "cell_type": "code",
   "execution_count": null,
   "metadata": {},
   "outputs": [],
   "source": []
  }
 ],
 "metadata": {
  "kernelspec": {
   "display_name": "Python 3",
   "language": "python",
   "name": "python3"
  },
  "language_info": {
   "codemirror_mode": {
    "name": "ipython",
    "version": 3
   },
   "file_extension": ".py",
   "mimetype": "text/x-python",
   "name": "python",
   "nbconvert_exporter": "python",
   "pygments_lexer": "ipython3",
   "version": "3.8.3"
  }
 },
 "nbformat": 4,
 "nbformat_minor": 4
}
