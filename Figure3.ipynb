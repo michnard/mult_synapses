{
 "cells": [
  {
   "cell_type": "markdown",
   "metadata": {},
   "source": [
    "# Nonlinear computations in spiking neural networks through multiplicative synapses - Figure 3\n",
    "Michele Nardin, James W Phillips, William F Podlaski, Sander W Keemink"
   ]
  },
  {
   "cell_type": "markdown",
   "metadata": {},
   "source": [
    "We will here reproduce the main figures from the paper."
   ]
  },
  {
   "cell_type": "markdown",
   "metadata": {},
   "source": [
    "### Imports"
   ]
  },
  {
   "cell_type": "code",
   "execution_count": 2,
   "metadata": {},
   "outputs": [],
   "source": [
    "import numpy as np\n",
    "import matplotlib\n",
    "import matplotlib.pyplot as plt\n",
    "from mpl_toolkits.mplot3d import Axes3D"
   ]
  },
  {
   "cell_type": "markdown",
   "metadata": {},
   "source": [
    "### Plot settings"
   ]
  },
  {
   "cell_type": "code",
   "execution_count": 3,
   "metadata": {},
   "outputs": [],
   "source": [
    "matplotlib.rcParams.update({'font.size': 10})\n",
    "matplotlib.rcParams['figure.dpi'] = 90"
   ]
  },
  {
   "cell_type": "markdown",
   "metadata": {},
   "source": [
    "## Set up the problem"
   ]
  },
  {
   "cell_type": "markdown",
   "metadata": {},
   "source": [
    "parameters for the double pendulum"
   ]
  },
  {
   "cell_type": "code",
   "execution_count": 4,
   "metadata": {},
   "outputs": [],
   "source": [
    "m1=1 # mass above\n",
    "m2=0.5 # mass below\n",
    "l=1 #length\n",
    "g=9.81 # gravity\n",
    "# constants\n",
    "k1 = 6/(7*m1*l**2)\n",
    "k2 = 6/(7*m2*l**2)\n",
    "\n",
    "c1 = -1/2*m1*l**2*k1**2\n",
    "c2 = -1/2*m2*l**2*k2**2\n",
    "\n",
    "c = -1/2*m1*l**2"
   ]
  },
  {
   "cell_type": "markdown",
   "metadata": {},
   "source": [
    "write the system as a Kronecker product \n",
    "$$ y' = Ay + C y^{\\otimes 3}$$\n"
   ]
  },
  {
   "cell_type": "code",
   "execution_count": 5,
   "metadata": {},
   "outputs": [],
   "source": [
    "A = np.array([[0,0,k1*2,-3*k1],\n",
    "              [0,0,-3*k2,8*k2],\n",
    "              [3*c*g/l,0,0,0],\n",
    "              [0,c*g/l,0,0]])\n",
    "\n",
    "C = np.array([[0]*64,\n",
    "              [0]*64,\n",
    "              [0]*40 + [-6,6,0,0,25,-25] + [0]*14 + [-24,24,0,0], \n",
    "              [0]*40 + [6,-6,0,0,-25,25] + [0]*14 + [24,-24,0,0]\n",
    "             ]) * np.array([[1,1,c1,c2]]).T"
   ]
  },
  {
   "cell_type": "markdown",
   "metadata": {},
   "source": [
    "## Compute solution using 3rd order synapses"
   ]
  },
  {
   "cell_type": "code",
   "execution_count": 9,
   "metadata": {},
   "outputs": [
    {
     "name": "stdout",
     "output_type": "stream",
     "text": [
      "Total time steps =  100000\n"
     ]
    }
   ],
   "source": [
    "Time = 10 # total time\n",
    "dt = 0.0001 # time step\n",
    "Nt=int(Time/dt)\n",
    "print('Total time steps = ', Nt)"
   ]
  },
  {
   "cell_type": "markdown",
   "metadata": {},
   "source": [
    "Network parameters"
   ]
  },
  {
   "cell_type": "code",
   "execution_count": 28,
   "metadata": {},
   "outputs": [],
   "source": [
    "K = 4 # dimensions of the problem\n",
    "N = 20 # number of neurons for double pendulum\n",
    "# decoding matrix - linearly spaced\n",
    "Ds = np.sin(np.linspace(0,2.5*np.pi,int(5*20/8)+1))\n",
    "D = np.zeros([K,N])\n",
    "D[0,:10] = Ds[:10]\n",
    "D[1,:10] = Ds[-11:-1]\n",
    "D[2,10:20] = Ds[:10]\n",
    "D[3,10:20] = Ds[-11:-1]\n",
    "D=D/400\n",
    "# threshold\n",
    "T = np.diag(D.T@D)/2\n",
    "\n",
    "# decay constant of rate\n",
    "tau=5"
   ]
  },
  {
   "cell_type": "markdown",
   "metadata": {},
   "source": [
    "Initialization"
   ]
  },
  {
   "cell_type": "code",
   "execution_count": 11,
   "metadata": {},
   "outputs": [],
   "source": [
    "# initialize it\n",
    "s_o = np.zeros(N)\n",
    "r_o = np.ones(N)\n",
    "x_o = np.array([-0.01353916, -0.0133675 , -1.13912921, -0.17027103])\n",
    "r_o = np.array(np.linalg.pinv(D)@x_o) # pseudo-inverse\n",
    "\n",
    "\n",
    "# Voltage, spikes, rate\n",
    "V = np.zeros([N,Nt+1])\n",
    "s = np.zeros([N,Nt+1])\n",
    "r = np.zeros([N,Nt+1])\n",
    "\n",
    "#initial conditions\n",
    "V[:,0] = T/2\n",
    "r[:,0] = r_o\n",
    "s[:,0] = s_o"
   ]
  },
  {
   "cell_type": "markdown",
   "metadata": {},
   "source": [
    "recurrent connections"
   ]
  },
  {
   "cell_type": "code",
   "execution_count": 31,
   "metadata": {},
   "outputs": [],
   "source": [
    "O_f = D.T @ D\n",
    "O_s = D.T @ (tau*np.identity(K) + A) @ D\n",
    "O_nl =D.T @ C @ np.kron(D,np.kron(D,D))"
   ]
  },
  {
   "cell_type": "markdown",
   "metadata": {},
   "source": [
    "Simulation"
   ]
  },
  {
   "cell_type": "code",
   "execution_count": 12,
   "metadata": {},
   "outputs": [],
   "source": [
    "for t in range(Nt):\n",
    "    V[:,t+1] = V[:,t] + dt*(-tau*V[:,t] \n",
    "                            - O_f@s[:,t] \n",
    "                            + O_s @ r[:,t] \n",
    "                            + O_nl @ np.kron(r[:,t],np.kron(r[:,t],r[:,t])))\n",
    "    above = np.where(V[:,t+1] > T)[0]\n",
    "    # introduce a control to let only one neuron fire\n",
    "    if len(above):\n",
    "        s[np.argmax(V[:,t+1]),t+1] = 1/dt\n",
    "    r[:,t+1] = r[:,t] + dt*(s[:,t+1] - tau*r[:,t])"
   ]
  },
  {
   "cell_type": "code",
   "execution_count": 17,
   "metadata": {},
   "outputs": [],
   "source": [
    "X=D@r #decode"
   ]
  },
  {
   "cell_type": "markdown",
   "metadata": {},
   "source": [
    "Plotting"
   ]
  },
  {
   "cell_type": "code",
   "execution_count": 15,
   "metadata": {},
   "outputs": [],
   "source": [
    "def pend(X,off=0,col1='red',col2='blue',alpha=1):\n",
    "    x1 = np.sin(X[0])/2\n",
    "    y1 = -np.cos(X[0])/2\n",
    "    \n",
    "    x2 =  (np.sin(X[0]) + 0.5*np.sin(X[1]))\n",
    "    y2 = -(np.cos(X[0]) + 0.5*np.cos(X[1]))\n",
    "    \n",
    "    plt.plot([0+off,2*x1+off],[0,2*y1],col1,alpha=alpha)\n",
    "    plt.plot([2*x1+off,2*(x2-x1)+off],[2*y1,2*(y2-y1)],col2,alpha=alpha)\n",
    "#     plt.plot([2*x1,x2],[2*y1,y2])\n",
    "    plt.xlim([-2,2])\n",
    "    plt.ylim([-2,2])"
   ]
  },
  {
   "cell_type": "code",
   "execution_count": 18,
   "metadata": {},
   "outputs": [
    {
     "data": {
      "image/png": "[encoded data removed]",
      "text/plain": [
       "<Figure size 360x270 with 4 Axes>"
      ]
     },
     "metadata": {
      "needs_background": "light"
     },
     "output_type": "display_data"
    }
   ],
   "source": [
    "plt.figure(figsize=(4,3))\n",
    "ns=8\n",
    "\n",
    "plt.subplot(1,2,1)\n",
    "plt.imshow([[0,1]],cmap='Greys')\n",
    "for i in range(ns):\n",
    "    pend(X[:,300*(i)+2000],alpha=1*(ns-i)/ns)\n",
    "    plt.subplots_adjust(wspace=-0)\n",
    "plt.xlim([-1.5,0.5])\n",
    "plt.ylim([-2,0.5])\n",
    "plt.axis('off')\n",
    "cbar = plt.colorbar(shrink=0.5,ticks=[0,1])\n",
    "cbar.ax.set_yticklabels(['0.2','0'])\n",
    "cbar.ax.set_ylabel('Time',rotation=270)\n",
    "\n",
    "ax=plt.subplot(2,2,4)\n",
    "a=np.where(s[:,2000:150*(i)+2000])\n",
    "plt.scatter(a[1],a[0],marker='.',color='k',alpha=0.9,s=2)\n",
    "plt.xticks([0,500,1000],[0,0.1,0.2])\n",
    "plt.xlabel('Time (s)')\n",
    "plt.ylabel('Neuron')\n",
    "[ax.spines[s].set_visible(False) for s in ['right','top']]\n",
    "\n",
    "ax=plt.subplot(2,2,2)\n",
    "plt.plot(X[0][2000:300*(i)+2000],c='red',label=r'$ \\theta_1$') # theta_1\n",
    "plt.plot(X[1][2000:300*(i)+2000],c='blue',label=r'$ \\theta_2$') # theta_2\n",
    "\n",
    "plt.plot(X[2][2000:300*(i)+2000],c='tab:orange',label=r'$ p_{\\theta_1}$') #first momentum\n",
    "plt.plot(X[3][2000:300*(i)+2000],c='tab:blue',label=r'$ p_{\\theta_2}$') #second momentum\n",
    "plt.legend(loc=(1,-0.2))\n",
    "plt.xticks([0,1000,2000],[0,0.1,0.2])\n",
    "plt.xlabel('Time (s)')\n",
    "[ax.spines[s].set_visible(False) for s in ['right','top']]\n",
    "\n",
    "plt.tight_layout()"
   ]
  },
  {
   "cell_type": "markdown",
   "metadata": {},
   "source": [
    "## Utilize 2 Networks in parallel so to use only 2nd order synapses"
   ]
  },
  {
   "cell_type": "markdown",
   "metadata": {},
   "source": [
    "First network, the one that actually does the computation\n",
    "\n",
    "The parameters and decoding matrix are exactly as the one above"
   ]
  },
  {
   "cell_type": "code",
   "execution_count": 20,
   "metadata": {},
   "outputs": [],
   "source": [
    "# Voltage, spikes, rate: this will do the computation\n",
    "V = np.zeros([N,Nt+1])\n",
    "s = np.zeros([N,Nt+1])\n",
    "r = np.zeros([N,Nt+1])\n",
    "\n",
    "#initial conditions\n",
    "V[:,0] = T/2\n",
    "r[:,0] = r_o\n",
    "s[:,0] = s_o\n",
    "\n",
    "# decay constant of rate\n",
    "tau=5"
   ]
  },
  {
   "cell_type": "markdown",
   "metadata": {},
   "source": [
    "Second network that constantly represent $X \\otimes X$ so to avoid third order"
   ]
  },
  {
   "cell_type": "code",
   "execution_count": 19,
   "metadata": {},
   "outputs": [],
   "source": [
    "# need a network that represents X (x) X\n",
    "# need to do it as well as possible!!\n",
    "\n",
    "Np = 200 # neurons\n",
    "\n",
    "# dimensionality\n",
    "Kp = K**2\n",
    "\n",
    "# kernel\n",
    "np.random.seed(42)\n",
    "Dp=np.random.randn(Kp,Np) # N x K\n",
    "Dp = Dp / np.sqrt(np.diag(Dp.T@Dp))\n",
    "Dp = Dp / 200\n",
    "# threshold\n",
    "Tp = np.diag(Dp.T@Dp)/2\n",
    "# tau\n",
    "taup=5"
   ]
  },
  {
   "cell_type": "markdown",
   "metadata": {},
   "source": [
    "Voltage, spikes, rate for second network"
   ]
  },
  {
   "cell_type": "code",
   "execution_count": 21,
   "metadata": {},
   "outputs": [],
   "source": [
    "Vp = np.zeros([Np,Nt+1])\n",
    "sp = np.zeros([Np,Nt+1])\n",
    "rp = np.zeros([Np,Nt+1])\n",
    "rp[:,0] = np.array(np.linalg.pinv(Dp)@np.kron(x_o,x_o)) # pseudo-inverse\n",
    "Vp[:,0] = 0.9*Tp"
   ]
  },
  {
   "cell_type": "markdown",
   "metadata": {},
   "source": [
    "Connectivty"
   ]
  },
  {
   "cell_type": "code",
   "execution_count": 27,
   "metadata": {},
   "outputs": [],
   "source": [
    "O_fp = -Dp.T @ Dp\n",
    "O_x = Dp.T@np.kron(D,D)\n",
    "# recurrent connections\n",
    "O_f = D.T @ D\n",
    "O_s = D.T @ (tau*np.identity(K) + A) @ D\n",
    "O_nl =D.T @ C @ np.kron(D,Dp)"
   ]
  },
  {
   "cell_type": "markdown",
   "metadata": {},
   "source": [
    "Simulation"
   ]
  },
  {
   "cell_type": "code",
   "execution_count": 22,
   "metadata": {},
   "outputs": [],
   "source": [
    "for t in range(Nt):\n",
    "    ## computation - first network\n",
    "    V[:,t+1] = V[:,t] + dt*(-tau*V[:,t] \n",
    "                            - O_f@s[:,t] \n",
    "                            + O_s @ r[:,t] \n",
    "                            + O_nl @ np.kron(r[:,t],rp[:,t]))\n",
    "    above = np.where(V[:,t+1] > T)[0]\n",
    "    # introduce a control to let only one neuron fire\n",
    "    if len(above):\n",
    "        s[np.argmax(V[:,t+1]),t+1] = 1/dt\n",
    "    r[:,t+1] = r[:,t] + dt*(s[:,t+1] - tau*r[:,t])\n",
    "    \n",
    "    ## Kronecker representation of output - second network\n",
    "    Vp[:,t+1] = Vp[:,t] + dt*(-taup*Vp[:,t]\n",
    "                              + O_fp @ sp[:,t]\n",
    "                              + O_x @ (np.kron(r[:,t],s[:,t+1])\n",
    "                                      +np.kron(s[:,t+1],r[:,t])\n",
    "                                      +np.kron(r[:,t],r[:,t])*(taup-2*tau)))\n",
    "    above = np.where(Vp[:,t+1] > Tp)[0]\n",
    "    # introduce a control to let only one neuron fire\n",
    "    if len(above):\n",
    "        sp[np.argmax(Vp[:,t+1]),t+1] = 1/dt\n",
    "    rp[:,t+1] = rp[:,t] + dt*(sp[:,t+1] - taup*rp[:,t])"
   ]
  },
  {
   "cell_type": "code",
   "execution_count": 23,
   "metadata": {},
   "outputs": [],
   "source": [
    "X_nt=D@r #decode"
   ]
  },
  {
   "cell_type": "markdown",
   "metadata": {},
   "source": [
    "Now compare this and the solution above, also against theoretical solution"
   ]
  },
  {
   "cell_type": "code",
   "execution_count": 25,
   "metadata": {},
   "outputs": [],
   "source": [
    "from scipy.integrate import odeint\n",
    "def f(X, t):  \n",
    "    return A@X + C@ np.kron(np.kron(X,X),X)\n",
    "t = np.arange(0.0, 10, dt)\n",
    "x_o = np.array([-0.01353916, -0.0133675 , -1.13912921, -0.17027103])\n",
    "Xt = odeint(f, x_o, t) # approximate numerically the solution"
   ]
  },
  {
   "cell_type": "markdown",
   "metadata": {},
   "source": [
    "Plot the overlap"
   ]
  },
  {
   "cell_type": "code",
   "execution_count": 26,
   "metadata": {},
   "outputs": [
    {
     "data": {
      "image/png": "[encoded data removed]",
      "text/plain": [
       "<Figure size 450x270 with 4 Axes>"
      ]
     },
     "metadata": {
      "needs_background": "light"
     },
     "output_type": "display_data"
    }
   ],
   "source": [
    "plt.figure(figsize=(5,3))\n",
    "\n",
    "ax=plt.subplot(2,2,1)\n",
    "\n",
    "plt.plot(Xt[:,0],color='k',ls='dotted')\n",
    "plt.plot(X[0],color='red',alpha=0.5,ls='dashed')\n",
    "plt.plot(X_nt[0],color='purple',alpha=0.5,ls='-.')\n",
    "[ax.spines[s].set_visible(False) for s in ['right','top','bottom']]\n",
    "plt.xticks([])\n",
    "plt.yticks([-0.2,0,0.2])\n",
    "plt.ylabel(r'$\\theta_1$',labelpad=-8)\n",
    "\n",
    "ax=plt.subplot(2,2,3)\n",
    "\n",
    "plt.plot(Xt[:,1],color='k',ls='dotted')\n",
    "plt.plot(X[1],color='red',alpha=0.5,ls='dashed')\n",
    "plt.plot(X_nt[1],color='purple',alpha=0.5,ls='-.')\n",
    "[ax.spines[s].set_visible(False) for s in ['right','top']]\n",
    "plt.ylabel(r'$\\theta_2$',labelpad=-5)\n",
    "plt.xticks(np.arange(6)*2/dt,np.arange(6)*2)\n",
    "\n",
    "plt.xlabel('Time (s)')\n",
    "\n",
    "ax=plt.subplot(2,2,2)\n",
    "\n",
    "plt.plot(Xt[:,2],color='k',ls='dotted')\n",
    "plt.plot(X[2],color='red',alpha=0.5,ls='dashed')\n",
    "plt.plot(X_nt[2],color='purple',alpha=0.5,ls='-.')\n",
    "[ax.spines[s].set_visible(False) for s in ['right','top','bottom']]\n",
    "plt.xticks([])\n",
    "plt.ylabel(r'$p_{\\theta_1}$',labelpad=-6)\n",
    "\n",
    "ax=plt.subplot(2,2,4)\n",
    "\n",
    "plt.plot(Xt[:,3],color='k',ls='dotted',label='Theor.')\n",
    "plt.plot(X[3],color='red',alpha=0.5,ls='dashed',label='Triplet')\n",
    "plt.plot(X_nt[3],color='purple',alpha=0.5,ls='-.',label='No Tripl.')\n",
    "[ax.spines[s].set_visible(False) for s in ['right','top']]\n",
    "plt.ylabel(r'$p_{\\theta_2}$',labelpad=-8)\n",
    "plt.xticks(np.arange(6)*2/dt,np.arange(6)*2)\n",
    "\n",
    "plt.xlabel('Time (s)')\n",
    "plt.legend(loc=(0.8,0.5))\n",
    "plt.tight_layout()"
   ]
  }
 ],
 "metadata": {
  "kernelspec": {
   "display_name": "Python 3",
   "language": "python",
   "name": "python3"
  },
  "language_info": {
   "codemirror_mode": {
    "name": "ipython",
    "version": 3
   },
   "file_extension": ".py",
   "mimetype": "text/x-python",
   "name": "python",
   "nbconvert_exporter": "python",
   "pygments_lexer": "ipython3",
   "version": "3.7.6"
  }
 },
 "nbformat": 4,
 "nbformat_minor": 4
}
